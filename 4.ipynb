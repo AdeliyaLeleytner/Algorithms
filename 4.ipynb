{
 "cells": [
  {
   "cell_type": "markdown",
   "metadata": {},
   "source": [
    "# Структура данных\n",
    "\n",
    "### Реализуйте структуру данных, поддерживающую следующие операции:\n",
    "\n",
    "#### 1. **Добавление элемента** — за $\\Theta(1)$.\n",
    "#### 2. **Удаление первого добавленного элемента** — за $\\Theta(1)$.\n",
    "#### 3. **Нахождение минимального элемента среди добавленных**.\n",
    "#### 4. **Нахождение максимального элемента среди добавленных**.\n",
    "\n",
    "#### Покажите, что ваша реализация имеет минимально возможные асимптотики времени выполнения операций (3) и (4) в зависимости от $n$ — количества элементов, хранящихся в структуре."
   ]
  },
  {
   "cell_type": "markdown",
   "metadata": {},
   "source": [
    "# Описание алгоритма\n",
    "\n",
    "Вдохновлялась [очередью на шести стеках](https://neerc.ifmo.ru/wiki/index.php?title=%D0%9F%D0%B5%D1%80%D1%81%D0%B8%D1%81%D1%82%D0%B5%D0%BD%D1%82%D0%BD%D0%B0%D1%8F_%D0%BE%D1%87%D0%B5%D1%80%D0%B5%D0%B4%D1%8C \"храни господи сайт ИТМО\")\n",
    "\n",
    "Пока реализовывала -- поняла, что можно сделать сильно быстрее. Я не уверена насчет корректности подсчета амортизированной сложности, но мне кажется, что мой вариант тоже работает за $(O(1))$\n",
    "\n",
    "- **Основная очередь (`queue`)** — для хранения элементов в порядке их добавления\n",
    "- **Деки для минимума (`min_queue`) и максимума (`max_queue`)** — для отслеживания текущего минимального и максимального элементов\n",
    "\n",
    "1. Добавление элемента (`add(value)`)\n",
    "\n",
    "- Добавляем элемент `value` в `queue`\n",
    "- Обновляем `min_queue`:\n",
    "  - Удаляем из `min_queue` все элементы, большие чем `value`, начиная с конца\n",
    "  - Добавляем `value` в `min_queue`\n",
    "- Обновляем `max_queue`:\n",
    "  - Удаляем из `max_queue` все элементы, меньшие чем `value`, начиная с конца\n",
    "  - Добавляем `value` в `max_queue`\n",
    "\n",
    "**Почему это работает:**\n",
    "\n",
    "- В `min_queue` всегда будут храниться потенциальные кандидаты на минимальный элемент в порядке их возможного удаления из `queue`\n",
    "- Аналогично для `max_queue` и максимальных элементов \n",
    "\n",
    "2. Удаление первого добавленного элемента (`remove()`)\n",
    "\n",
    "- Извлекаем элемент `value` из начала `queue`.\n",
    "- Если `value` совпадает с первым элементом в `min_queue`, удаляем его из `min_queue`\n",
    "- Если `value` совпадает с первым элементом в `max_queue`, удаляем его из `max_queue`\n",
    "\n",
    "3. Нахождение минимального элемента (`get_min()`): возвращаем первый элемент из `min_queue` \n",
    "\n",
    "4. Нахождение максимального элемента (`get_max()`): возвращаем первый элемент из `max_queue`\n",
    "\n",
    "# Оценка асимптотической сложности\n",
    "\n",
    "#### Добавление элемента (`add(value)`). В худшем случае, удаляем несколько элементов из конца `min_queue` и `max_queue`. Но каждый элемент может быть удален из `min_queue` и `max_queue` не более одного раза за все время работы. Поэтому общее время на все удаления будет $O(n)$. **Амортизированное время на операцию:** $O(1)$.\n",
    "\n",
    "#### Удаление элемента (`remove()`) = $O(1)$ (`popleft` и сравнение первых элементов за $O(1)$)\n",
    "\n",
    "#### Получение минимума и максимума (`get_min()`, `get_max()`) = $O(1)$, мы просто обращаемся к первому элементу `min_queue` или `max_queue`.\n",
    "\n",
    "### Итого\n",
    "\n",
    "- **Добавление элемента:** Амортизированное $O(1)$.\n",
    "- **Удаление элемента:** $O(1)$.\n",
    "- **Получение минимума/максимума:** $O(1)$.\n"
   ]
  },
  {
   "cell_type": "markdown",
   "metadata": {},
   "source": [
    "# Deques"
   ]
  },
  {
   "cell_type": "code",
   "execution_count": null,
   "metadata": {},
   "outputs": [],
   "source": [
    "from collections import deque\n",
    "\n",
    "class Structure:\n",
    "    def __init__(self):\n",
    "        self.queue = deque()  \n",
    "        self.min_stack = deque()  \n",
    "        self.max_stack = deque()  \n",
    "\n",
    "    def add(self, value):\n",
    "        self.queue.append(value)\n",
    "        while self.min_stack and self.min_stack[-1] > value: ## self.min_stack -- проверяю на пустоты, не хочу поднимать ошибки\n",
    "            self.min_stack.pop()\n",
    "        self.min_stack.append(value)\n",
    "        \n",
    "        while self.max_stack and self.max_stack[-1] < value:\n",
    "            self.max_stack.pop()\n",
    "        self.max_stack.append(value)\n",
    "\n",
    "    def remove(self):\n",
    "        if not self.queue:\n",
    "            raise IndexError(\"i beg your pardon, i'm empty already :(\")\n",
    "        \n",
    "        value = self.queue.popleft()\n",
    "\n",
    "        if value == self.min_stack[0]:\n",
    "            self.min_stack.popleft()\n",
    "\n",
    "        if value == self.max_stack[0]:\n",
    "            self.max_stack.popleft()\n",
    "        \n",
    "        return value\n",
    "    \n",
    "    def get_min(self):\n",
    "        if not self.queue:\n",
    "            raise IndexError(\"пусто\")\n",
    "        return self.min_stack[0]\n",
    "\n",
    "    def get_max(self):\n",
    "        if not self.queue:\n",
    "            raise IndexError(\"никаких максимумов сегодня\")\n",
    "        return self.max_stack[0]\n"
   ]
  },
  {
   "cell_type": "code",
   "execution_count": 2,
   "metadata": {},
   "outputs": [
    {
     "name": "stdout",
     "output_type": "stream",
     "text": [
      "-100\n",
      "5000\n"
     ]
    }
   ],
   "source": [
    "queue = Structure()\n",
    "\n",
    "queue.add(5)\n",
    "queue.add(1)\n",
    "queue.add(3)\n",
    "queue.add(0)\n",
    "queue.add(-1)\n",
    "queue.add(-100)\n",
    "queue.add(5000)\n",
    "queue.add(2948)\n",
    "queue.add(8)\n",
    "print(queue.get_min())  \n",
    "print(queue.get_max())  "
   ]
  },
  {
   "cell_type": "code",
   "execution_count": 9,
   "metadata": {},
   "outputs": [
    {
     "data": {
      "text/plain": [
       "5000"
      ]
     },
     "execution_count": 9,
     "metadata": {},
     "output_type": "execute_result"
    }
   ],
   "source": [
    "queue.remove()"
   ]
  },
  {
   "cell_type": "code",
   "execution_count": 10,
   "metadata": {},
   "outputs": [
    {
     "name": "stdout",
     "output_type": "stream",
     "text": [
      "8\n"
     ]
    }
   ],
   "source": [
    "print(queue.get_min()) "
   ]
  },
  {
   "cell_type": "code",
   "execution_count": 11,
   "metadata": {},
   "outputs": [
    {
     "name": "stdout",
     "output_type": "stream",
     "text": [
      "0\n",
      "2948\n"
     ]
    }
   ],
   "source": [
    "queue.add(0)\n",
    "queue.add(4)\n",
    "print(queue.get_min())  \n",
    "print(queue.get_max())  "
   ]
  },
  {
   "cell_type": "code",
   "execution_count": 16,
   "metadata": {},
   "outputs": [
    {
     "ename": "IndexError",
     "evalue": "i beg your pardon, i'm empty already :(",
     "output_type": "error",
     "traceback": [
      "\u001b[0;31m---------------------------------------------------------------------------\u001b[0m",
      "\u001b[0;31mIndexError\u001b[0m                                Traceback (most recent call last)",
      "Cell \u001b[0;32mIn[16], line 1\u001b[0m\n\u001b[0;32m----> 1\u001b[0m \u001b[43mqueue\u001b[49m\u001b[38;5;241;43m.\u001b[39;49m\u001b[43mremove\u001b[49m\u001b[43m(\u001b[49m\u001b[43m)\u001b[49m  \n",
      "Cell \u001b[0;32mIn[1], line 21\u001b[0m, in \u001b[0;36mStructure.remove\u001b[0;34m(self)\u001b[0m\n\u001b[1;32m     19\u001b[0m \u001b[38;5;28;01mdef\u001b[39;00m \u001b[38;5;21mremove\u001b[39m(\u001b[38;5;28mself\u001b[39m):\n\u001b[1;32m     20\u001b[0m     \u001b[38;5;28;01mif\u001b[39;00m \u001b[38;5;129;01mnot\u001b[39;00m \u001b[38;5;28mself\u001b[39m\u001b[38;5;241m.\u001b[39mqueue:\n\u001b[0;32m---> 21\u001b[0m         \u001b[38;5;28;01mraise\u001b[39;00m \u001b[38;5;167;01mIndexError\u001b[39;00m(\u001b[38;5;124m\"\u001b[39m\u001b[38;5;124mi beg your pardon, i\u001b[39m\u001b[38;5;124m'\u001b[39m\u001b[38;5;124mm empty already :(\u001b[39m\u001b[38;5;124m\"\u001b[39m)\n\u001b[1;32m     23\u001b[0m     value \u001b[38;5;241m=\u001b[39m \u001b[38;5;28mself\u001b[39m\u001b[38;5;241m.\u001b[39mqueue\u001b[38;5;241m.\u001b[39mpopleft()\n\u001b[1;32m     25\u001b[0m     \u001b[38;5;28;01mif\u001b[39;00m value \u001b[38;5;241m==\u001b[39m \u001b[38;5;28mself\u001b[39m\u001b[38;5;241m.\u001b[39mmin_stack[\u001b[38;5;241m0\u001b[39m]:\n",
      "\u001b[0;31mIndexError\u001b[0m: i beg your pardon, i'm empty already :("
     ]
    }
   ],
   "source": [
    "queue.remove()  "
   ]
  },
  {
   "cell_type": "markdown",
   "metadata": {},
   "source": [
    "# Tests"
   ]
  },
  {
   "cell_type": "code",
   "execution_count": 19,
   "metadata": {},
   "outputs": [],
   "source": [
    "test_cases = [\n",
    "    {\n",
    "        'operations': ['add', 'add', 'add', 'add', 'get_min', 'get_max', 'remove', 'get_min', 'get_max'],\n",
    "        'values': [5, 3, 7, 2, None, None, None, None, None],\n",
    "        'expected': [None, None, None, None, 2, 7, 5, 2, 7]\n",
    "    },\n",
    "    {\n",
    "        'operations': ['add', 'add', 'add', 'get_min', 'get_max', 'remove', 'get_min', 'get_max'],\n",
    "        'values': [4, 4, 4, None, None, None, None, None],\n",
    "        'expected': [None, None, None, 4, 4, 4, 4, 4]\n",
    "    },\n",
    "    {\n",
    "        'operations': ['add', 'add', 'add', 'get_min', 'get_max'],\n",
    "        'values': [10, 9, 8, None, None],\n",
    "        'expected': [None, None, None, 8, 10]\n",
    "    },\n",
    "    {\n",
    "        'operations': ['add', 'add', 'add', 'get_min', 'get_max'],\n",
    "        'values': [1, 2, 3, None, None],\n",
    "        'expected': [None, None, None, 1, 3]\n",
    "    },\n",
    "    {\n",
    "        'operations': ['add', 'remove', 'remove'],\n",
    "        'values': [5, None, None],\n",
    "        'expected': [None, 5, IndexError]\n",
    "    },\n",
    "    {\n",
    "        'operations': ['get_min'],\n",
    "        'values': [None],\n",
    "        'expected': [IndexError]\n",
    "    },\n",
    "    {\n",
    "        'operations': ['add', 'get_min', 'add', 'get_max', 'remove', 'get_min'],\n",
    "        'values': [3, None, 2, None, None, None],\n",
    "        'expected': [None, 3, None, 3, 3, 2]\n",
    "    },\n",
    "    {\n",
    "        'operations': ['add'] * 1000 + ['get_min', 'get_max'],\n",
    "        'values': list(range(1000, 0, -1)) + [None, None],\n",
    "        'expected': [None]*1000 + [1, 1000]\n",
    "    },\n",
    "    {\n",
    "        'operations': ['add', 'add', 'remove', 'remove', 'add', 'get_min', 'get_max'],\n",
    "        'values': [5, 10, None, None, 3, None, None],\n",
    "        'expected': [None, None, 5, 10, None, 3, 3]\n",
    "    },\n",
    "    {\n",
    "        'operations': ['add', 'add', 'add', 'get_min', 'get_max', 'remove', 'get_min', 'get_max'],\n",
    "        'values': [2, 2, 2, None, None, None, None, None],\n",
    "        'expected': [None, None, None, 2, 2, 2, 2, 2]\n",
    "    },\n",
    "]\n"
   ]
  },
  {
   "cell_type": "code",
   "execution_count": 20,
   "metadata": {},
   "outputs": [
    {
     "name": "stdout",
     "output_type": "stream",
     "text": [
      "Тест 1 пройден.\n",
      "Тест 2 пройден.\n",
      "Тест 3 пройден.\n",
      "Тест 4 пройден.\n",
      "Тест 5 пройден.\n",
      "Тест 6 пройден.\n",
      "Тест 7 пройден.\n",
      "Тест 8 пройден.\n",
      "Тест 9 пройден.\n",
      "Тест 10 пройден.\n"
     ]
    }
   ],
   "source": [
    "def run_tests():\n",
    "    for idx, test in enumerate(test_cases):\n",
    "        s = Structure()\n",
    "        outputs = []\n",
    "        for op, val in zip(test['operations'], test['values']):\n",
    "            try:\n",
    "                if op == 'add':\n",
    "                    s.add(val)\n",
    "                    outputs.append(None)\n",
    "                elif op == 'remove':\n",
    "                    result = s.remove()\n",
    "                    outputs.append(result)\n",
    "                elif op == 'get_min':\n",
    "                    result = s.get_min()\n",
    "                    outputs.append(result)\n",
    "                elif op == 'get_max':\n",
    "                    result = s.get_max()\n",
    "                    outputs.append(result)\n",
    "            except Exception as e:\n",
    "                outputs.append(type(e))\n",
    "        if outputs == test['expected']:\n",
    "            print(f\"Тест {idx + 1} пройден.\")\n",
    "        else:\n",
    "            print(f\"Тест {idx + 1} не пройден. Ожидалось {test['expected']}, получено {outputs}\")\n",
    "\n",
    "run_tests()\n"
   ]
  },
  {
   "cell_type": "code",
   "execution_count": null,
   "metadata": {},
   "outputs": [],
   "source": []
  }
 ],
 "metadata": {
  "kernelspec": {
   "display_name": "Python 3",
   "language": "python",
   "name": "python3"
  },
  "language_info": {
   "codemirror_mode": {
    "name": "ipython",
    "version": 3
   },
   "file_extension": ".py",
   "mimetype": "text/x-python",
   "name": "python",
   "nbconvert_exporter": "python",
   "pygments_lexer": "ipython3",
   "version": "3.9.6"
  }
 },
 "nbformat": 4,
 "nbformat_minor": 2
}
