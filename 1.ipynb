{
 "cells": [
  {
   "cell_type": "markdown",
   "metadata": {},
   "source": [
    "#### Можно было бы перебирать все значения, но зачем, если есть бинарный поиск? "
   ]
  },
  {
   "cell_type": "code",
   "execution_count": null,
   "metadata": {},
   "outputs": [],
   "source": [
    "def min_prefix_length(strings):\n",
    "    def all_prefixes_unique(k):\n",
    "        '''\n",
    "        Функция уникальности префикса длины k. \n",
    "        Мы проходимся по префиксам длины k для каждого слова из инпута и кладем их в сет, если это уникальное значение.\n",
    "        Таким образом, если хотя бы два префикса повторяются -- значит, эта длины префикса нам не подходит\n",
    "        '''\n",
    "        seen = set() #dict\n",
    "        for s in strings:\n",
    "            prefix = s[:k]  \n",
    "            if prefix in seen:  # здесь можно сделать отдельное хэширование строки, чтобы хэш любого префикса получать за O(1), но для наших лимитов это кажется overkill?\n",
    "                return False\n",
    "            seen.add(prefix)\n",
    "        return True\n",
    " \n",
    "    left, right = 1, max(len(s) for s in strings)        # границы бинпоиска\n",
    "    output = -1\n",
    "\n",
    "    while left <= right:\n",
    "        mid = (left + right) // 2\n",
    "        if all_prefixes_unique(mid):\n",
    "            output = mid  \n",
    "            right = mid - 1  \n",
    "        else:\n",
    "            left = mid + 1  \n",
    "\n",
    "    return output"
   ]
  },
  {
   "cell_type": "markdown",
   "metadata": {},
   "source": [
    "# Tests"
   ]
  },
  {
   "cell_type": "code",
   "execution_count": 2,
   "metadata": {},
   "outputs": [
    {
     "name": "stdout",
     "output_type": "stream",
     "text": [
      "5\n"
     ]
    }
   ],
   "source": [
    "strings = [\"hello\", \"hell\", \"helicopter\", \"hero\"]\n",
    "print(min_prefix_length(strings)) "
   ]
  },
  {
   "cell_type": "code",
   "execution_count": 3,
   "metadata": {},
   "outputs": [
    {
     "name": "stdout",
     "output_type": "stream",
     "text": [
      "1\n"
     ]
    }
   ],
   "source": [
    "strings = [\"abc\", \"def\", \"ghi\"]\n",
    "print(min_prefix_length(strings))"
   ]
  },
  {
   "cell_type": "code",
   "execution_count": 4,
   "metadata": {},
   "outputs": [
    {
     "name": "stdout",
     "output_type": "stream",
     "text": [
      "-1\n"
     ]
    }
   ],
   "source": [
    "strings = [\"aaa\", \"aaa\", \"aaa\"]\n",
    "print(min_prefix_length(strings))"
   ]
  },
  {
   "cell_type": "code",
   "execution_count": null,
   "metadata": {},
   "outputs": [],
   "source": []
  }
 ],
 "metadata": {
  "kernelspec": {
   "display_name": "Python 3",
   "language": "python",
   "name": "python3"
  },
  "language_info": {
   "codemirror_mode": {
    "name": "ipython",
    "version": 3
   },
   "file_extension": ".py",
   "mimetype": "text/x-python",
   "name": "python",
   "nbconvert_exporter": "python",
   "pygments_lexer": "ipython3",
   "version": "3.9.6"
  }
 },
 "nbformat": 4,
 "nbformat_minor": 2
}
