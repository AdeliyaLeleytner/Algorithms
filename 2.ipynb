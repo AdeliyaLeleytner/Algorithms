{
 "cells": [
  {
   "cell_type": "markdown",
   "metadata": {},
   "source": [
    "Будем использовать *префиксные суммы*. \n",
    "Для начала построим список, состоящий из префиксных сумм -- доказательства не требует, поскольку он таков по построению. \n",
    "Докажем, что требуемый результат является результатом разницы между sigma(j) и sigma(i-1) (для всех, кроме i == 0)"
   ]
  },
  {
   "cell_type": "code",
   "execution_count": null,
   "metadata": {},
   "outputs": [],
   "source": [
    "def prefix_sum_query(array, queries):\n",
    "    n = len(array)\n",
    "    prefix_sum = [0] * n\n",
    "    prefix_sum[0] = array[0]\n",
    "\n",
    "    # построим список с последовательным суммированием исходного списка\n",
    "    for i in range(1, n):\n",
    "        prefix_sum[i] = prefix_sum[i - 1] + array[i]\n",
    "    \n",
    "    print(prefix_sum)\n",
    "    \n",
    "    results = []\n",
    "    for i, j in queries:\n",
    "        if i == 0:\n",
    "            results.append(prefix_sum[j])\n",
    "        else:\n",
    "            results.append(prefix_sum[j] - prefix_sum[i - 1])\n",
    "    \n",
    "    return results\n"
   ]
  },
  {
   "cell_type": "markdown",
   "metadata": {},
   "source": [
    "# Tests"
   ]
  },
  {
   "cell_type": "code",
   "execution_count": 5,
   "metadata": {},
   "outputs": [
    {
     "name": "stdout",
     "output_type": "stream",
     "text": [
      "[1, 0, 0, 0, 0]\n",
      "[1, 3, 6, 10, 15]\n",
      "[9, 15, 3]\n"
     ]
    }
   ],
   "source": [
    "array = [1, 2, 3, 4, 5]\n",
    "queries = [(1, 3), (0, 4), (2, 2)]\n",
    "result = prefix_sum_query(array, queries)\n",
    "print(result)  "
   ]
  },
  {
   "cell_type": "code",
   "execution_count": null,
   "metadata": {},
   "outputs": [],
   "source": []
  }
 ],
 "metadata": {
  "kernelspec": {
   "display_name": "Python 3",
   "language": "python",
   "name": "python3"
  },
  "language_info": {
   "codemirror_mode": {
    "name": "ipython",
    "version": 3
   },
   "file_extension": ".py",
   "mimetype": "text/x-python",
   "name": "python",
   "nbconvert_exporter": "python",
   "pygments_lexer": "ipython3",
   "version": "3.9.6"
  }
 },
 "nbformat": 4,
 "nbformat_minor": 2
}
