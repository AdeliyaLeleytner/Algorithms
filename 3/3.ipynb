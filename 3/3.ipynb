{
 "cells": [
  {
   "cell_type": "markdown",
   "metadata": {},
   "source": [
    "# Филогенетические деревья\n",
    "\n",
    "### Имеются два неукорененных филогенетических дерева для набора бактериальных генов. Необходимо проверить эквивалентность топологии деревьев (различная топология возможна только при наличии у дерева не менее 6 листьев). И, если топология деревьев эквивалентна, вывести какое-нибудь соответствие между идентификаторами первого и второго деревьев\n",
    "\n"
   ]
  },
  {
   "cell_type": "markdown",
   "metadata": {},
   "source": [
    "# Описание алгоритма\n",
    "\n",
    "Все это можно было бы реализовать при помощи библиотеки ete3, но, кажется, в задачке требовалось захардкодить\n",
    "\n",
    "## 1. Парсинг деревьев в формате Newick\n",
    "\n",
    "  - Проходим по строке символ за символом.\n",
    "  - Используем стек для отслеживания текущего уровня вложенности.\n",
    "  - Когда встречаем `'('`, начинаем новую ветвь.\n",
    "  - Когда встречаем `')'`, завершаем текущую ветвь и присоединяем ее к предыдущему уровню.\n",
    "  - Листь = символы (идентификаторы), не являющиеся скобками или запятыми.\n",
    "\n",
    "## 2. Получение множества листьев дерева\n",
    "\n",
    "- Рекурсивно обходим дерево и собираем все листья.\n",
    "- Если узел является строкой, добавляем его в множество листьев.\n",
    "- Если узел является списком (ветвью), рекурсивно обходим его поддеревья.\n",
    "\n",
    "## 3. Проверка эквивалентности топологии деревьев\n",
    "\n",
    "  - Если оба узла являются листьями (строками), сравниваем их идентификаторы.\n",
    "  - Если один узел — лист, а другой — ветвь, деревья не эквивалентны.\n",
    "  - Если количество поддеревьев (детей) в текущих узлах различается, деревья не эквивалентны.\n",
    "  - Получаем множества листьев для каждого поддерева.\n",
    "  - Сортируем списки поддеревьев по количеству листьев, чтобы обеспечить правильное соответствие.\n",
    "  - Рекурсивно сравниваем соответствующие поддеревья.\n",
    "\n",
    "## 4. Построение соответствия между листьями\n",
    "\n",
    "- Если деревья эквивалентны, строим соответствие между листьями первого и второго дерева.\n",
    "- Рекурсивно обходим деревья одновременно и сопоставляем листья.\n",
    "\n",
    "# Доказательство \n",
    "\n",
    "- При рекурсивном сравнении узлов учитываются все возможные случаи:\n",
    "  - Листья сравниваются по идентификаторам.\n",
    "  - Ветви сравниваются по структуре и множеству листьев.\n",
    "- Сортировка поддеревьев по количеству листьев обеспечивает правильное соответствие при неоднозначных порядках ветвлений.\n",
    "\n",
    "**Построение соответствия:** поскольку при проверке эквивалентности мы сравниваем соответствующие поддеревья, можем использовать тот же обход для построения соответствия между листьями.\n",
    "\n",
    "# Оценка асимптотической сложности\n",
    "\n",
    "Пусть:\n",
    "\n",
    "- $n$ — общее количество узлов в дереве (в худшем случае число листьев).\n",
    "\n",
    "**Парсинг дерева:** проход по строке длины $L$ (длина строки Newick) $\\implies$ $O(L)$.\n",
    "\n",
    "**Получение множества листьев =** $O(n)$\n",
    "\n",
    "**Проверка эквивалентности:** рекурсивное сравнение узлов $\\implies$  на каждом узле можем выполнять операции объединения и сортировки множеств листьев. В худшем случае $O(n \\log n)$ из-за сортировки на каждом уровне.\n",
    "\n",
    "**Построение соответствия =** $O(n)$.\n",
    "\n",
    "**Итоговая сложность =** $O(n \\log n)$.\n",
    "\n"
   ]
  },
  {
   "cell_type": "code",
   "execution_count": null,
   "metadata": {},
   "outputs": [
    {
     "name": "stdout",
     "output_type": "stream",
     "text": [
      "['(X,(Y,Z));    \\n', '(A,(B,C)); \\n', '\\n']\n",
      "None\n"
     ]
    }
   ],
   "source": [
    "def parse_newick(newick):\n",
    "    ''' \n",
    "    парсит строку в заданном формате (Newick) и возвращает дерево в виде вложенных списков\n",
    "    '''\n",
    "    stack = []\n",
    "    current = []\n",
    "    for char in newick:\n",
    "        if char == '(':\n",
    "            stack.append(current)\n",
    "            current = []\n",
    "        elif char == ')':\n",
    "            if stack:\n",
    "                subtree = current\n",
    "                current = stack.pop()\n",
    "                current.append(subtree)\n",
    "        elif char == ',':\n",
    "            continue\n",
    "        elif char == ';':\n",
    "            continue\n",
    "        else:\n",
    "            current.append(char)\n",
    "    return current\n",
    "\n",
    "def get_leaf_set(tree):\n",
    "    ''' \n",
    "    возвращает множество листьев дерева (надо для сравнения)\n",
    "    '''\n",
    "    if isinstance(tree, str):\n",
    "        return {tree}\n",
    "    leaf_set = set()\n",
    "\n",
    "    for subtree in tree:\n",
    "        leaf_set.update(get_leaf_set(subtree))\n",
    "    return leaf_set\n",
    "\n",
    "def are_trees_equivalent(tree1, tree2):\n",
    "    ''' \n",
    "    проверка на эквивалентность\n",
    "    '''\n",
    "    if isinstance(tree1, str) and isinstance(tree2, str):\n",
    "        return tree1 == tree2\n",
    "    if isinstance(tree1, str) or isinstance(tree2, str):\n",
    "        return False\n",
    "    if len(tree1) != len(tree2):\n",
    "        return False\n",
    "    tree1_leaf_sets = sorted([get_leaf_set(subtree) for subtree in tree1], key=len)\n",
    "    tree2_leaf_sets = sorted([get_leaf_set(subtree) for subtree in tree2], key=len)\n",
    "    return tree1_leaf_sets == tree2_leaf_sets\n",
    "\n",
    "def get_leaf_mapping(tree1, tree2, mapping=None):\n",
    "    ''' \n",
    "    строим соответствие между листьями для эквивалентных деревьев\n",
    "    '''\n",
    "    if mapping is None:\n",
    "        mapping = {}\n",
    "    if isinstance(tree1, str) and isinstance(tree2, str):\n",
    "        mapping[tree1] = tree2\n",
    "        return mapping\n",
    "    for subtree1, subtree2 in zip(tree1, tree2):\n",
    "        get_leaf_mapping(subtree1, subtree2, mapping)\n",
    "    return mapping\n",
    "\n",
    "def main(file_path):\n",
    "    with open(file_path, 'r') as file:\n",
    "        lines = file.readlines()\n",
    "    \n",
    "    print(lines)\n",
    "    tree1 = parse_newick(lines[0].strip())\n",
    "    tree2 = parse_newick(lines[1].strip())\n",
    "    \n",
    "    if len(get_leaf_set(tree1)) < 6 or len(get_leaf_set(tree2)) < 6:    # проверяем количество листьев\n",
    "        print(None)\n",
    "        return\n",
    "    \n",
    "    if are_trees_equivalent(tree1, tree2):\n",
    "        mapping = get_leaf_mapping(tree1, tree2)\n",
    "        print(list(mapping.items()))\n",
    "    else:\n",
    "        print(None)\n"
   ]
  },
  {
   "cell_type": "markdown",
   "metadata": {},
   "source": [
    "# Tests"
   ]
  },
  {
   "cell_type": "code",
   "execution_count": 32,
   "metadata": {},
   "outputs": [
    {
     "name": "stdout",
     "output_type": "stream",
     "text": [
      "['\"(A,(B,(C,D)));\"\\n', '\"(C,(A,(D,B)));\"']\n",
      "None\n"
     ]
    }
   ],
   "source": [
    "file_path = \"test_1.txt\"  \n",
    "main(file_path)"
   ]
  },
  {
   "cell_type": "code",
   "execution_count": 33,
   "metadata": {},
   "outputs": [
    {
     "name": "stdout",
     "output_type": "stream",
     "text": [
      "['((A,B),(C,(D,(E,F)))); \\n', '((C,(D,(F,E))),(B,A)); \\n', '\\n']\n",
      "[('A', 'C'), ('B', 'D'), ('C', 'B'), ('D', 'A')]\n"
     ]
    }
   ],
   "source": [
    "file_path = \"test_2.txt\"  \n",
    "main(file_path)"
   ]
  },
  {
   "cell_type": "code",
   "execution_count": 34,
   "metadata": {},
   "outputs": [
    {
     "name": "stdout",
     "output_type": "stream",
     "text": [
      "['(X,(Y,Z));    \\n', '(A,(B,C)); \\n', '\\n']\n",
      "None\n"
     ]
    }
   ],
   "source": [
    "file_path = \"test_3.txt\"  \n",
    "main(file_path)"
   ]
  },
  {
   "cell_type": "code",
   "execution_count": 35,
   "metadata": {},
   "outputs": [
    {
     "name": "stdout",
     "output_type": "stream",
     "text": [
      "['(A,(B,(C,D)));  \\n', '((C,D),B,A);\\n']\n",
      "None\n"
     ]
    }
   ],
   "source": [
    "file_path = \"test_4.txt\"  \n",
    "main(file_path)"
   ]
  },
  {
   "cell_type": "markdown",
   "metadata": {},
   "source": [
    "# Примечание: нужно будет улучшить парсиер, добавив к нему возможность взвешенных ребер"
   ]
  }
 ],
 "metadata": {
  "kernelspec": {
   "display_name": "Python 3",
   "language": "python",
   "name": "python3"
  },
  "language_info": {
   "codemirror_mode": {
    "name": "ipython",
    "version": 3
   },
   "file_extension": ".py",
   "mimetype": "text/x-python",
   "name": "python",
   "nbconvert_exporter": "python",
   "pygments_lexer": "ipython3",
   "version": "3.9.6"
  }
 },
 "nbformat": 4,
 "nbformat_minor": 2
}
