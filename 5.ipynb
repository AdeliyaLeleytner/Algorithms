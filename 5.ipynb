{
 "cells": [
  {
   "cell_type": "markdown",
   "metadata": {},
   "source": [
    "### При решении этой задачи я исхожу из того, что самое первое, что человек делает в начале дня -- заражает k человек. И только потом умирает (на 11 день). Подсчет количества больных в моей симуляции также производится в конце дня -- то есть после заражения и смертей. "
   ]
  },
  {
   "cell_type": "markdown",
   "metadata": {},
   "source": [
    "Мне кажется очень красивым идею использовать deque и здесь тоже. Потому что по сути это циклический буфер, и мы умеем сдвигать его вправо. По сути, все, что нам нужно знать о каждом пациенте -- это день его заболевания. Если у него 3 день заболевания (начиная с 1, а не с 0), это значит, что завтра первым делом он заразит k пациентов. Если у него 10 день заболевания, это значит, что завтра он заразит k паицентов, а потом сам умрет. Таким образом, я предлагаю использовать здесь deque -- где \"индекс+1\" это день заболевания, а в самом значении - количество пациентов, болеющий \"индекс+1\" день. Ниже я схематично изобразила, как это будет выглядеть в тривиальном случае -- если из пробирки заразился 1 пациент и он заражает 1 человека в день."
   ]
  },
  {
   "cell_type": "code",
   "execution_count": null,
   "metadata": {},
   "outputs": [
    {
     "data": {
      "text/plain": [
       "'\\n1 2 3 4 5 6 7 8 9 10 11\\n1 0 0 0 0 0 0 0 0  0  0\\n0 1 0 0 0 0 0 0 0  0  0\\n0 0 1 0 0 0 0 0 0  0  0\\n'"
      ]
     },
     "execution_count": 35,
     "metadata": {},
     "output_type": "execute_result"
    }
   ],
   "source": [
    "'''\n",
    "1 2 3 4 5 6 7 8 9 10 11\n",
    "1 0 0 0 0 0 0 0 0  0  0\n",
    "0 1 0 0 0 0 0 0 0  0  0\n",
    "0 0 1 0 0 0 0 0 0  0  0\n",
    "1 0 0 1 0 0 0 0 0  0  0\n",
    "1 1 0 0 1 0 0 0 0  0  0\n",
    "1 1 1 0 0 1 0 0 0  0  0\n",
    "2 1 1 1 0 0 1 0 0  0  0\n",
    "3 2 1 1 1 0 0 1 0  0  0\n",
    "4 3 2 1 1 1 0 0 1  0  0\n",
    "6 4 3 2 1 1 1 0 0  1  0\n",
    "9 6 4 3 2 1 1 1 0  0  1 \n",
    "13 9 6 4 3 2 1 1 1 0  0  1 \n",
    "'''"
   ]
  },
  {
   "cell_type": "code",
   "execution_count": 94,
   "metadata": {},
   "outputs": [
    {
     "name": "stdout",
     "output_type": "stream",
     "text": [
      "Число зараженных людишек в конце дня n: 1178\n"
     ]
    }
   ],
   "source": [
    "from collections import deque\n",
    "from itertools import islice\n",
    "\n",
    "def simulation(n,z,k):\n",
    "    data = deque([z, 0,0,0,0,0,0,0,0,0,0])\n",
    "    while n != 0:\n",
    "        new_pat = k*sum(islice(data, 2, 11))\n",
    "        data.appendleft(new_pat)\n",
    "        data.pop()\n",
    "        n -= 1\n",
    "    output = sum(data)\n",
    "    return output\n",
    "\n",
    "z = 1\n",
    "k = 1\n",
    "n = 20\n",
    "\n",
    "print('Число зараженных людишек в конце дня n:', simulation(n,z,k))"
   ]
  }
 ],
 "metadata": {
  "kernelspec": {
   "display_name": "Python 3",
   "language": "python",
   "name": "python3"
  },
  "language_info": {
   "codemirror_mode": {
    "name": "ipython",
    "version": 3
   },
   "file_extension": ".py",
   "mimetype": "text/x-python",
   "name": "python",
   "nbconvert_exporter": "python",
   "pygments_lexer": "ipython3",
   "version": "3.9.6"
  }
 },
 "nbformat": 4,
 "nbformat_minor": 2
}
