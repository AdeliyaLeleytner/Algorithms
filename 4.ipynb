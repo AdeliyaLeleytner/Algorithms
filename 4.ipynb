{
 "cells": [
  {
   "cell_type": "markdown",
   "metadata": {},
   "source": [
    "Можем реализовать вот такую структуру, основанную на deque'ах. Амортизированная сложность всего О(1). Вдохновлялась очередью на шести стеках: https://neerc.ifmo.ru/wiki/index.php?title=%D0%9F%D0%B5%D1%80%D1%81%D0%B8%D1%81%D1%82%D0%B5%D0%BD%D1%82%D0%BD%D0%B0%D1%8F_%D0%BE%D1%87%D0%B5%D1%80%D0%B5%D0%B4%D1%8C"
   ]
  },
  {
   "cell_type": "markdown",
   "metadata": {},
   "source": [
    "# Deques"
   ]
  },
  {
   "cell_type": "code",
   "execution_count": null,
   "metadata": {},
   "outputs": [],
   "source": [
    "from collections import deque\n",
    "\n",
    "class Structure:\n",
    "    def __init__(self):\n",
    "        self.queue = deque()  \n",
    "        self.min_stack = deque()  \n",
    "        self.max_stack = deque()  \n",
    "\n",
    "    def add(self, value):\n",
    "        self.queue.append(value)\n",
    "        while self.min_stack and self.min_stack[-1] > value: ## self.min_stack -- проверяю на пустоты, не хочу поднимать ошибки\n",
    "            self.min_stack.pop()\n",
    "        self.min_stack.append(value)\n",
    "        \n",
    "        while self.max_stack and self.max_stack[-1] < value:\n",
    "            self.max_stack.pop()\n",
    "        self.max_stack.append(value)\n",
    "\n",
    "    def remove(self):\n",
    "        if not self.queue:\n",
    "            raise IndexError(\"i beg your pardon, i'm empty already :(\")\n",
    "        \n",
    "        value = self.queue.popleft()\n",
    "\n",
    "        if value == self.min_stack[0]:\n",
    "            self.min_stack.popleft()\n",
    "\n",
    "        if value == self.max_stack[0]:\n",
    "            self.max_stack.popleft()\n",
    "        \n",
    "        return value\n",
    "    \n",
    "    def get_min(self):\n",
    "        if not self.queue:\n",
    "            raise IndexError(\"пусто\")\n",
    "        return self.min_stack[0]\n",
    "\n",
    "    def get_max(self):\n",
    "        if not self.queue:\n",
    "            raise IndexError(\"никаких максимумов сегодня\")\n",
    "        return self.max_stack[0]\n"
   ]
  },
  {
   "cell_type": "code",
   "execution_count": 2,
   "metadata": {},
   "outputs": [
    {
     "name": "stdout",
     "output_type": "stream",
     "text": [
      "-100\n",
      "5000\n"
     ]
    }
   ],
   "source": [
    "queue = Structure()\n",
    "\n",
    "queue.add(5)\n",
    "queue.add(1)\n",
    "queue.add(3)\n",
    "queue.add(0)\n",
    "queue.add(-1)\n",
    "queue.add(-100)\n",
    "queue.add(5000)\n",
    "queue.add(2948)\n",
    "queue.add(8)\n",
    "print(queue.get_min())  \n",
    "print(queue.get_max())  "
   ]
  },
  {
   "cell_type": "code",
   "execution_count": 9,
   "metadata": {},
   "outputs": [
    {
     "data": {
      "text/plain": [
       "5000"
      ]
     },
     "execution_count": 9,
     "metadata": {},
     "output_type": "execute_result"
    }
   ],
   "source": [
    "queue.remove()"
   ]
  },
  {
   "cell_type": "code",
   "execution_count": 10,
   "metadata": {},
   "outputs": [
    {
     "name": "stdout",
     "output_type": "stream",
     "text": [
      "8\n"
     ]
    }
   ],
   "source": [
    "print(queue.get_min()) "
   ]
  },
  {
   "cell_type": "code",
   "execution_count": 11,
   "metadata": {},
   "outputs": [
    {
     "name": "stdout",
     "output_type": "stream",
     "text": [
      "0\n",
      "2948\n"
     ]
    }
   ],
   "source": [
    "queue.add(0)\n",
    "queue.add(4)\n",
    "print(queue.get_min())  \n",
    "print(queue.get_max())  "
   ]
  },
  {
   "cell_type": "code",
   "execution_count": 16,
   "metadata": {},
   "outputs": [
    {
     "ename": "IndexError",
     "evalue": "i beg your pardon, i'm empty already :(",
     "output_type": "error",
     "traceback": [
      "\u001b[0;31m---------------------------------------------------------------------------\u001b[0m",
      "\u001b[0;31mIndexError\u001b[0m                                Traceback (most recent call last)",
      "Cell \u001b[0;32mIn[16], line 1\u001b[0m\n\u001b[0;32m----> 1\u001b[0m \u001b[43mqueue\u001b[49m\u001b[38;5;241;43m.\u001b[39;49m\u001b[43mremove\u001b[49m\u001b[43m(\u001b[49m\u001b[43m)\u001b[49m  \n",
      "Cell \u001b[0;32mIn[1], line 21\u001b[0m, in \u001b[0;36mStructure.remove\u001b[0;34m(self)\u001b[0m\n\u001b[1;32m     19\u001b[0m \u001b[38;5;28;01mdef\u001b[39;00m \u001b[38;5;21mremove\u001b[39m(\u001b[38;5;28mself\u001b[39m):\n\u001b[1;32m     20\u001b[0m     \u001b[38;5;28;01mif\u001b[39;00m \u001b[38;5;129;01mnot\u001b[39;00m \u001b[38;5;28mself\u001b[39m\u001b[38;5;241m.\u001b[39mqueue:\n\u001b[0;32m---> 21\u001b[0m         \u001b[38;5;28;01mraise\u001b[39;00m \u001b[38;5;167;01mIndexError\u001b[39;00m(\u001b[38;5;124m\"\u001b[39m\u001b[38;5;124mi beg your pardon, i\u001b[39m\u001b[38;5;124m'\u001b[39m\u001b[38;5;124mm empty already :(\u001b[39m\u001b[38;5;124m\"\u001b[39m)\n\u001b[1;32m     23\u001b[0m     value \u001b[38;5;241m=\u001b[39m \u001b[38;5;28mself\u001b[39m\u001b[38;5;241m.\u001b[39mqueue\u001b[38;5;241m.\u001b[39mpopleft()\n\u001b[1;32m     25\u001b[0m     \u001b[38;5;28;01mif\u001b[39;00m value \u001b[38;5;241m==\u001b[39m \u001b[38;5;28mself\u001b[39m\u001b[38;5;241m.\u001b[39mmin_stack[\u001b[38;5;241m0\u001b[39m]:\n",
      "\u001b[0;31mIndexError\u001b[0m: i beg your pardon, i'm empty already :("
     ]
    }
   ],
   "source": [
    "queue.remove()  "
   ]
  }
 ],
 "metadata": {
  "kernelspec": {
   "display_name": "Python 3",
   "language": "python",
   "name": "python3"
  },
  "language_info": {
   "codemirror_mode": {
    "name": "ipython",
    "version": 3
   },
   "file_extension": ".py",
   "mimetype": "text/x-python",
   "name": "python",
   "nbconvert_exporter": "python",
   "pygments_lexer": "ipython3",
   "version": "3.9.6"
  }
 },
 "nbformat": 4,
 "nbformat_minor": 2
}
